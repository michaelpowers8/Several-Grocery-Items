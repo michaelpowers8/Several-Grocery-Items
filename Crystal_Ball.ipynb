{
 "cells": [
  {
   "cell_type": "markdown",
   "id": "5564604b",
   "metadata": {},
   "source": [
    "# Several Items"
   ]
  },
  {
   "cell_type": "markdown",
   "id": "3373fe0a",
   "metadata": {},
   "source": [
    "## Library Importing"
   ]
  },
  {
   "cell_type": "code",
   "execution_count": null,
   "id": "b0aa0306",
   "metadata": {},
   "outputs": [],
   "source": [
    "import random\n",
    "import re\n",
    "import seaborn as sns\n",
    "import numpy as np\n",
    "import datetime as dt\n",
    "import time\n",
    "import pandas as pd\n",
    "import os  \n",
    "pd.options.mode.chained_assignment = None\n",
    "import warnings\n",
    "warnings.filterwarnings('ignore')\n",
    "import matplotlib.pyplot as plt\n",
    "from sklearn.metrics import accuracy_score, f1_score, r2_score, mean_squared_error\n",
    "from sklearn.metrics import confusion_matrix, mean_absolute_error, recall_score, precision_score\n",
    "from sklearn.metrics import roc_auc_score, roc_curve, precision_recall_curve, make_scorer\n",
    "from sklearn.model_selection import train_test_split, GridSearchCV, KFold, cross_val_score, TimeSeriesSplit\n",
    "from sklearn.preprocessing import OrdinalEncoder, StandardScaler, LabelEncoder\n",
    "from sklearn.tree import DecisionTreeRegressor\n",
    "from sklearn.utils import shuffle\n",
    "from sklearn.ensemble import RandomForestRegressor, RandomForestClassifier\n",
    "from sklearn.utils import shuffle\n",
    "from sklearn.linear_model import LogisticRegression, LinearRegression \n",
    "from sklearn.dummy import DummyRegressor, DummyClassifier\n",
    "from sklearn.neighbors import *\n",
    "from catboost import CatBoostClassifier,CatBoostRegressor, CatBoost\n",
    "from lightgbm import LGBMRegressor, early_stopping\n",
    "from statsmodels.tsa.seasonal import seasonal_decompose\n",
    "from scipy import stats as st\n",
    "from IPython.display import clear_output"
   ]
  },
  {
   "cell_type": "markdown",
   "id": "7ac4e106",
   "metadata": {},
   "source": [
    "## Extra Functions"
   ]
  },
  {
   "cell_type": "code",
   "execution_count": null,
   "id": "ddf263dd",
   "metadata": {},
   "outputs": [],
   "source": [
    "def full_stats(data):\n",
    "    mean = data.mean()\n",
    "    median = data.quantile(0.50)\n",
    "    minimum = data.min()\n",
    "    maximum = data.max()\n",
    "    q1 = data.quantile(0.25)\n",
    "    q3 = data.quantile(0.75)\n",
    "    iqr = q3-q1\n",
    "    big_outliers = q3 + (1.5*iqr)\n",
    "    small_outliers = q1 - (1.5*iqr)\n",
    "    stdev = np.std(data)\n",
    "    variance = np.var(data)\n",
    "    deviations = data - mean\n",
    "    display(deviations)\n",
    "    #sns.boxplot(data)\n",
    "    report = pd.DataFrame(data={'minimum':[minimum],\n",
    "                                'q1':[q1],\n",
    "                                'median':[median],\n",
    "                                'q3':[q3],\n",
    "                                'maximum':[maximum],\n",
    "                                'iqr':[iqr],\n",
    "                                'big_outliers':[big_outliers],\n",
    "                                'small_outliers':[small_outliers],\n",
    "                                'standard_deviation':[stdev],\n",
    "                                'variance':[variance]})\n",
    "    return report"
   ]
  },
  {
   "cell_type": "code",
   "execution_count": null,
   "id": "7a737219",
   "metadata": {},
   "outputs": [],
   "source": [
    "def get_stats(data):\n",
    "    count = data.count()\n",
    "    mean = data.mean()\n",
    "    median = data.quantile(0.50)\n",
    "    minimum = data.min()\n",
    "    maximum = data.max()\n",
    "    q1 = data.quantile(0.25)\n",
    "    q3 = data.quantile(0.75)\n",
    "    iqr = q3-q1\n",
    "    big_outliers = q3 + (1.5*iqr)\n",
    "    small_outliers = q1 - (1.5*iqr)\n",
    "    stdev = np.std(data)\n",
    "    variance = np.var(data)\n",
    "    deviations = abs(data - mean)\n",
    "    mad = deviations.mean()\n",
    "    return [count,minimum,q1,median,q3,maximum,iqr,big_outliers,small_outliers,stdev,variance,mad]"
   ]
  },
  {
   "cell_type": "code",
   "execution_count": null,
   "id": "f0831fa5",
   "metadata": {},
   "outputs": [],
   "source": [
    "def get_scores(model, features, target, predictions):\n",
    "    score = model.score(features, target)\n",
    "    avg_volume = sum(predictions)/len(predictions)\n",
    "    r2 = r2_score(target,predictions)\n",
    "    mse = mean_squared_error(target,predictions)\n",
    "    mae = mean_absolute_error(target,predictions)\n",
    "    rmse = mse**0.5\n",
    "    return score, avg_volume, r2, mse, mae, rmse"
   ]
  },
  {
   "cell_type": "code",
   "execution_count": null,
   "id": "5d831272",
   "metadata": {},
   "outputs": [],
   "source": [
    "def cv_test(df,features,target):\n",
    "    scores = []\n",
    "    rmses=[]\n",
    "    \n",
    "    sample_size = int(len(df) / 5)\n",
    "\n",
    "    for i in range(0, len(df), sample_size):\n",
    "        valid_indexes = list(range(i, i + sample_size))\n",
    "        train_indexes = list(range(0, i)) + list(range(i + sample_size, len(df)))\n",
    "\n",
    "        features_train = features.iloc[train_indexes]\n",
    "        features_valid = features.iloc[valid_indexes]\n",
    "\n",
    "        target_train = target.iloc[train_indexes]\n",
    "        target_valid = target.iloc[valid_indexes]\n",
    "\n",
    "        model = LinearRegression().fit(features_train, target_train)\n",
    "        score = model.score(features_valid, target_valid)\n",
    "        predictions = model.predict(features_valid)\n",
    "        rmses.append(mean_squared_error(target_valid,predictions)**0.5)\n",
    "        scores.append(score)\n",
    "    return round(sum(scores)/len(scores),3),round(sum(rmses)/len(rmses),3)"
   ]
  },
  {
   "cell_type": "code",
   "execution_count": null,
   "id": "c7201efe",
   "metadata": {},
   "outputs": [],
   "source": [
    "def upsample(features, target, repeat):\n",
    "    features_zeros = features[target == 0]\n",
    "    features_ones = features[target == 1]\n",
    "    target_zeros = target[target == 0]\n",
    "    target_ones = target[target == 1]\n",
    "\n",
    "    features_upsampled = pd.concat([features_zeros] + [features_ones] * repeat)\n",
    "    target_upsampled = pd.concat([target_zeros] + [target_ones] * repeat)\n",
    "\n",
    "    features_upsampled, target_upsampled = shuffle(\n",
    "        features_upsampled, target_upsampled, random_state=12345\n",
    "    )\n",
    "\n",
    "    return features_upsampled, target_upsampled"
   ]
  },
  {
   "cell_type": "code",
   "execution_count": null,
   "id": "2cd0fb04",
   "metadata": {},
   "outputs": [],
   "source": [
    "def downsample(features, target, fraction):\n",
    "    features_zeros = features[target == 0]\n",
    "    features_ones = features[target == 1]\n",
    "    target_zeros = target[target == 0]\n",
    "    target_ones = target[target == 1]\n",
    "\n",
    "    features_downsampled = pd.concat(\n",
    "        [features_zeros.sample(frac=fraction, random_state=12345)]\n",
    "        + [features_ones]\n",
    "    )\n",
    "    target_downsampled = pd.concat(\n",
    "        [target_zeros.sample(frac=fraction, random_state=12345)]\n",
    "        + [target_ones]\n",
    "    )\n",
    "\n",
    "    features_downsampled, target_downsampled = shuffle(\n",
    "        features_downsampled, target_downsampled, random_state=12345\n",
    "    )\n",
    "\n",
    "    return features_downsampled, target_downsampled"
   ]
  },
  {
   "cell_type": "code",
   "execution_count": null,
   "id": "d8ec5879",
   "metadata": {},
   "outputs": [],
   "source": [
    "def make_features(data, max_lag):\n",
    "    data['year'] = data.index.year\n",
    "    data['month'] = data.index.month\n",
    "    data['day'] = data.index.day\n",
    "    data['dayofweek'] = data.index.dayofweek\n",
    "\n",
    "    data['previous_day'] = data['num_orders'].shift(24)\n",
    "    \n",
    "    for lag in range(1, max_lag + 1):\n",
    "        data['lag_{}'.format(lag)] = data['num_orders'].shift(lag)\n",
    "\n",
    "    data['next_hour'] = data['num_orders'].shift(-1)\n",
    "    \n",
    "    data = data.dropna()\n",
    "    return data"
   ]
  },
  {
   "cell_type": "code",
   "execution_count": null,
   "id": "ccda8b97",
   "metadata": {},
   "outputs": [],
   "source": [
    "def rmse(y_true, y_predict):\n",
    "    mse = mean_squared_error(y_true, y_predict)\n",
    "    return mse**0.5"
   ]
  },
  {
   "cell_type": "code",
   "execution_count": null,
   "id": "e93b8e28",
   "metadata": {},
   "outputs": [],
   "source": [
    "def get_knn(df, n, k, metric):\n",
    "    \n",
    "    \"\"\"\n",
    "    Returns k nearest neighbors\n",
    "\n",
    "    :param df: pandas DataFrame used to find similar objects within\n",
    "    :param n: object no for which the nearest neighbours are looked for\n",
    "    :param k: the number of the nearest neighbours to return\n",
    "    :param metric: name of distance metric\n",
    "    \"\"\"\n",
    "\n",
    "    nbrs = NearestNeighbors(n_neighbors=k, algorithm='ball_tree', metric=metric).fit(df[feature_names].to_numpy())\n",
    "    nbrs_distances, nbrs_indices = nbrs.kneighbors([df.iloc[n][feature_names]], k, return_distance=True)\n",
    "    \n",
    "    df_res = pd.concat([\n",
    "        df.iloc[nbrs_indices[0]], \n",
    "        pd.DataFrame(nbrs_distances.T, index=nbrs_indices[0], columns=['distance'])\n",
    "        ], axis=1)\n",
    "    \n",
    "    return df_res"
   ]
  },
  {
   "cell_type": "code",
   "execution_count": null,
   "id": "ebcc6b21",
   "metadata": {},
   "outputs": [],
   "source": [
    "def build_knc(train, target, test, n_neighbors):\n",
    "    np.random.seed(42)\n",
    "    knc = KNeighborsClassifier(n_neighbors=n_neighbors)\n",
    "    knc.fit(features_train, target)\n",
    "    y_pred = knc.predict(test)\n",
    "    return y_pred"
   ]
  },
  {
   "cell_type": "code",
   "execution_count": null,
   "id": "e0717a2f",
   "metadata": {},
   "outputs": [],
   "source": [
    "def eval_regressor(y_true, y_pred):\n",
    "    \n",
    "    rmse = math.sqrt(sklearn.metrics.mean_squared_error(y_true, y_pred))\n",
    "    print(f'RMSE: {rmse:.2f}')\n",
    "    \n",
    "    r2_score = math.sqrt(sklearn.metrics.r2_score(y_true, y_pred))\n",
    "    print(f'R2: {r2_score:.2f}')  "
   ]
  },
  {
   "cell_type": "code",
   "execution_count": null,
   "id": "b2b7296d",
   "metadata": {},
   "outputs": [],
   "source": [
    "def fix_column_names(df):\n",
    "    df.columns = df.columns.str.replace(' ', '_')\n",
    "    df.columns = df.columns.str.lower()\n",
    "    return df"
   ]
  },
  {
   "cell_type": "markdown",
   "id": "41e90401",
   "metadata": {},
   "source": [
    "## Load/Prep Data"
   ]
  },
  {
   "cell_type": "code",
   "execution_count": null,
   "id": "cecb3eb2",
   "metadata": {},
   "outputs": [],
   "source": [
    "df = pd.read_csv('Sample_Grocery_Features.csv', index_col=[0], parse_dates=True, error_bad_lines=False)"
   ]
  },
  {
   "cell_type": "code",
   "execution_count": null,
   "id": "cf8e6010",
   "metadata": {},
   "outputs": [],
   "source": [
    "df = fix_column_names(df)\n",
    "df.head()"
   ]
  },
  {
   "cell_type": "code",
   "execution_count": null,
   "id": "550ab30f",
   "metadata": {},
   "outputs": [],
   "source": [
    "df = df.dropna(how='any', axis=1)"
   ]
  },
  {
   "cell_type": "code",
   "execution_count": null,
   "id": "58e6ab60",
   "metadata": {},
   "outputs": [],
   "source": [
    "df = df.sort_index()"
   ]
  },
  {
   "cell_type": "code",
   "execution_count": null,
   "id": "a1cbf2b9",
   "metadata": {},
   "outputs": [],
   "source": [
    "for col in ['seasonal?','allergy_warning','damaged?','on_sale']:\n",
    "    df[col] = df[col].map({'YES': 1, 'NO': 0})"
   ]
  },
  {
   "cell_type": "code",
   "execution_count": null,
   "id": "cb6540d3",
   "metadata": {},
   "outputs": [],
   "source": [
    "for col in ['price_purchased','price_sold','weekly_sales','monthly_sales','quarterly_sales','yearly_sales']:\n",
    "    df[col] = df[col].str.split(\"$\").str[1]\n",
    "    df[col] = df[col].str.replace(',','')\n",
    "    df[col] = df[col].astype('float64')"
   ]
  },
  {
   "cell_type": "code",
   "execution_count": null,
   "id": "db9ea767",
   "metadata": {},
   "outputs": [],
   "source": [
    "for col in df.columns:\n",
    "    if 'date' in col:\n",
    "        df[col] = pd.to_datetime(df[col])\n",
    "df.info()"
   ]
  },
  {
   "cell_type": "code",
   "execution_count": null,
   "id": "ccabb96b",
   "metadata": {},
   "outputs": [],
   "source": [
    "df.head()"
   ]
  },
  {
   "cell_type": "markdown",
   "id": "72a6836b",
   "metadata": {},
   "source": [
    "## Model Training"
   ]
  },
  {
   "cell_type": "markdown",
   "id": "7ae3775c",
   "metadata": {},
   "source": [
    "### Scale/Split Data"
   ]
  },
  {
   "cell_type": "code",
   "execution_count": null,
   "id": "86292756",
   "metadata": {},
   "outputs": [],
   "source": [
    "early_stopping(stopping_rounds=1,verbose=-1)"
   ]
  },
  {
   "cell_type": "code",
   "execution_count": null,
   "id": "8e044fd8",
   "metadata": {},
   "outputs": [],
   "source": [
    "random_state = 42"
   ]
  },
  {
   "cell_type": "code",
   "execution_count": null,
   "id": "9825dffa",
   "metadata": {},
   "outputs": [],
   "source": [
    "scaler = StandardScaler()\n",
    "encoder = LabelEncoder()"
   ]
  },
  {
   "cell_type": "code",
   "execution_count": null,
   "id": "8eff46e4",
   "metadata": {},
   "outputs": [],
   "source": [
    "features = df.drop('price_sold',axis=1)\n",
    "target = df['price_sold']"
   ]
  },
  {
   "cell_type": "code",
   "execution_count": null,
   "id": "16738258",
   "metadata": {},
   "outputs": [],
   "source": [
    "features_train, features_test, target_train, target_test = train_test_split(features, target, \n",
    "                                                                            test_size=0.2, \n",
    "                                                                            random_state=random_state)"
   ]
  },
  {
   "cell_type": "code",
   "execution_count": null,
   "id": "e82b3960",
   "metadata": {},
   "outputs": [],
   "source": [
    "features_train_scaled = features_train.copy()\n",
    "features_test_scaled = features_test.copy()"
   ]
  },
  {
   "cell_type": "code",
   "execution_count": null,
   "id": "12faa56b",
   "metadata": {},
   "outputs": [],
   "source": [
    "for col in df.columns:\n",
    "    if 'date' in col:\n",
    "        features_train_scaled[col] = encoder.fit_transform(features_train_scaled[col])\n",
    "        features_test_scaled[col] = encoder.fit_transform(features_test_scaled[col])"
   ]
  },
  {
   "cell_type": "code",
   "execution_count": null,
   "id": "5a437588",
   "metadata": {},
   "outputs": [],
   "source": [
    "scaler.fit(features_train_scaled)"
   ]
  },
  {
   "cell_type": "code",
   "execution_count": null,
   "id": "2d840ddc",
   "metadata": {},
   "outputs": [],
   "source": [
    "features_train_scaled = scaler.transform(features_train_scaled)\n",
    "features_test_scaled = scaler.transform(features_test_scaled)"
   ]
  },
  {
   "cell_type": "code",
   "execution_count": null,
   "id": "94dc5bba",
   "metadata": {},
   "outputs": [],
   "source": [
    "def unscale_data(data):\n",
    "    data = scaler.inverse_transform(data)\n",
    "    for col in data.columns:\n",
    "        if 'date' in col:\n",
    "            data[col] = encoder.inverse_transform(data[col])\n",
    "    return data"
   ]
  },
  {
   "cell_type": "markdown",
   "id": "f5e4f69a",
   "metadata": {},
   "source": [
    "### Dummy Test"
   ]
  },
  {
   "cell_type": "code",
   "execution_count": null,
   "id": "0edbe666",
   "metadata": {},
   "outputs": [],
   "source": [
    "dr = DummyRegressor(strategy='median')"
   ]
  },
  {
   "cell_type": "code",
   "execution_count": null,
   "id": "4724d48f",
   "metadata": {},
   "outputs": [],
   "source": [
    "start = time.time()\n",
    "dr.fit(features_train_scaled, target_train)\n",
    "dr_fit_time = round(time.time()-start,2)"
   ]
  },
  {
   "cell_type": "code",
   "execution_count": null,
   "id": "1a6e89ab",
   "metadata": {},
   "outputs": [],
   "source": [
    "dr_predictions = dr.predict(features_test_scaled)\n",
    "dr_rmse = rmse(target_test, dr_predictions)"
   ]
  },
  {
   "cell_type": "code",
   "execution_count": null,
   "id": "ea56f374",
   "metadata": {},
   "outputs": [],
   "source": [
    "cross_val_score(dr,features_train_scaled,target_train,scoring=make_scorer(rmse),verbose=10,cv=5)"
   ]
  },
  {
   "cell_type": "code",
   "execution_count": null,
   "id": "b0867b79",
   "metadata": {},
   "outputs": [],
   "source": [
    "features_test['dr_error'] = (dr_predictions-target_test)"
   ]
  },
  {
   "cell_type": "code",
   "execution_count": null,
   "id": "a03d1200",
   "metadata": {},
   "outputs": [],
   "source": [
    "features_test['dr_predictions'] = dr_predictions"
   ]
  },
  {
   "cell_type": "markdown",
   "id": "132542fe",
   "metadata": {},
   "source": [
    "### Linear Regression"
   ]
  },
  {
   "cell_type": "code",
   "execution_count": null,
   "id": "17496a11",
   "metadata": {},
   "outputs": [],
   "source": [
    "lr = LinearRegression()\n",
    "start = time.time()\n",
    "lr.fit(features_train_scaled, target_train)\n",
    "lr_fit_time = round(time.time()-start,2)"
   ]
  },
  {
   "cell_type": "code",
   "execution_count": null,
   "id": "11918c0f",
   "metadata": {},
   "outputs": [],
   "source": [
    "lr_predictions = lr.predict(features_test_scaled)\n",
    "lr_rmse = rmse(target_test, lr_predictions)"
   ]
  },
  {
   "cell_type": "code",
   "execution_count": null,
   "id": "78591925",
   "metadata": {},
   "outputs": [],
   "source": [
    "cross_val_score(lr,features_train_scaled,target_train,scoring=make_scorer(rmse),verbose=10,cv=5)"
   ]
  },
  {
   "cell_type": "code",
   "execution_count": null,
   "id": "4d1150e3",
   "metadata": {},
   "outputs": [],
   "source": [
    "features_test['lr_predictions'] = np.round(lr_predictions,2)"
   ]
  },
  {
   "cell_type": "code",
   "execution_count": null,
   "id": "25c5f21a",
   "metadata": {},
   "outputs": [],
   "source": [
    "features_test['lr_error'] = np.round((lr_predictions-target_test),2)"
   ]
  },
  {
   "cell_type": "markdown",
   "id": "e35d9be0",
   "metadata": {},
   "source": [
    "### Other Models"
   ]
  },
  {
   "cell_type": "markdown",
   "id": "ec52db38",
   "metadata": {},
   "source": [
    "#### Random Forest Regressor"
   ]
  },
  {
   "cell_type": "code",
   "execution_count": null,
   "id": "c8f972b8",
   "metadata": {
    "scrolled": true
   },
   "outputs": [],
   "source": [
    "rfr = RandomForestRegressor(random_state=random_state,\n",
    "                            n_estimators=100,\n",
    "                            max_features=0.3,\n",
    "                            verbose=False,\n",
    "                            warm_start=True)"
   ]
  },
  {
   "cell_type": "code",
   "execution_count": null,
   "id": "4396b185",
   "metadata": {},
   "outputs": [],
   "source": [
    "start = time.time()\n",
    "rfr.fit(features_train_scaled, target_train)\n",
    "rfr_fit_time = round(time.time()-start,2)"
   ]
  },
  {
   "cell_type": "code",
   "execution_count": null,
   "id": "b43ecc7c",
   "metadata": {},
   "outputs": [],
   "source": [
    "rfr_predictions = rfr.predict(features_test_scaled)\n",
    "rfr_rmse = rmse(target_test,rfr_predictions)"
   ]
  },
  {
   "cell_type": "code",
   "execution_count": null,
   "id": "a79df825",
   "metadata": {
    "scrolled": true
   },
   "outputs": [],
   "source": [
    "cross_val_score(rfr,features_train_scaled,target_train,scoring=make_scorer(rmse),verbose=10,cv=5)"
   ]
  },
  {
   "cell_type": "code",
   "execution_count": null,
   "id": "4b7e0787",
   "metadata": {},
   "outputs": [],
   "source": [
    "features_test['rfr_predictions'] = np.round(rfr_predictions,2)\n",
    "features_test['rfr_error'] = np.round((rfr_predictions-target_test),2)"
   ]
  },
  {
   "cell_type": "markdown",
   "id": "3b5c9f4f",
   "metadata": {},
   "source": [
    "#### Decision Tree Regressor"
   ]
  },
  {
   "cell_type": "code",
   "execution_count": null,
   "id": "1b677370",
   "metadata": {},
   "outputs": [],
   "source": [
    "dtr = DecisionTreeRegressor(random_state=random_state,\n",
    "                            splitter='best',\n",
    "                            max_features=None)"
   ]
  },
  {
   "cell_type": "code",
   "execution_count": null,
   "id": "9053e026",
   "metadata": {},
   "outputs": [],
   "source": [
    "start = time.time()\n",
    "dtr.fit(features_train_scaled, target_train)\n",
    "dtr_fit_time = round(time.time()-start,2)"
   ]
  },
  {
   "cell_type": "code",
   "execution_count": null,
   "id": "26c20b5d",
   "metadata": {},
   "outputs": [],
   "source": [
    "dtr_predictions = dtr.predict(features_test_scaled)\n",
    "dtr_rmse = rmse(target_test,dtr_predictions)"
   ]
  },
  {
   "cell_type": "code",
   "execution_count": null,
   "id": "cffeeae7",
   "metadata": {},
   "outputs": [],
   "source": [
    "cross_val_score(dtr,features_train_scaled,target_train,scoring=make_scorer(rmse),verbose=10,cv=5)"
   ]
  },
  {
   "cell_type": "code",
   "execution_count": null,
   "id": "666e397d",
   "metadata": {},
   "outputs": [],
   "source": [
    "features_test['dtr_predictions'] = np.round(dtr_predictions,2)\n",
    "features_test['dtr_error'] = np.round((dtr_predictions-target_test),2)"
   ]
  },
  {
   "cell_type": "markdown",
   "id": "65e80a2b",
   "metadata": {},
   "source": [
    "#### LGBM Regressor"
   ]
  },
  {
   "cell_type": "code",
   "execution_count": null,
   "id": "3a3f2362",
   "metadata": {},
   "outputs": [],
   "source": [
    "eval_set = [(features_test_scaled, target_test)]"
   ]
  },
  {
   "cell_type": "code",
   "execution_count": null,
   "id": "0aeb489e",
   "metadata": {},
   "outputs": [],
   "source": [
    "lgbm = LGBMRegressor(random_state=random_state,\n",
    "                     early_stopping_round=5,\n",
    "                     num_iterations=1000,\n",
    "                     n_estimators=100,\n",
    "                     max_depth=5,\n",
    "                     num_leaves=31,\n",
    "                     learning_rate=0.01)"
   ]
  },
  {
   "cell_type": "code",
   "execution_count": null,
   "id": "b11c70e0",
   "metadata": {},
   "outputs": [],
   "source": [
    "start = time.time()\n",
    "lgbm.fit(features_train_scaled, \n",
    "         target_train,\n",
    "         eval_metric='error',\n",
    "         eval_set=eval_set)\n",
    "lgbm_fit_time = round(time.time()-start,2)"
   ]
  },
  {
   "cell_type": "code",
   "execution_count": null,
   "id": "bfedadf6",
   "metadata": {},
   "outputs": [],
   "source": [
    "lgbm_predictions = lgbm.predict(features_test_scaled)\n",
    "lgbm_rmse = rmse(target_test,lgbm_predictions)"
   ]
  },
  {
   "cell_type": "code",
   "execution_count": null,
   "id": "13bdebb8",
   "metadata": {},
   "outputs": [],
   "source": [
    "features_test['lgbm_predictions'] = np.round(lgbm_predictions,2)\n",
    "features_test['lgbm_error'] = np.round((lgbm_predictions-target_test),2)"
   ]
  },
  {
   "cell_type": "markdown",
   "id": "0d09047f",
   "metadata": {},
   "source": [
    "#### CatBoostRegressor"
   ]
  },
  {
   "cell_type": "code",
   "execution_count": null,
   "id": "096dcea8",
   "metadata": {},
   "outputs": [],
   "source": [
    "cbr = CatBoostRegressor(random_state=random_state,\n",
    "                        early_stopping_rounds=5,\n",
    "                        iterations=1000,\n",
    "                        max_depth=None,\n",
    "                        num_leaves=31,\n",
    "                        learning_rate=0.01)"
   ]
  },
  {
   "cell_type": "code",
   "execution_count": null,
   "id": "e4dffd6f",
   "metadata": {},
   "outputs": [],
   "source": [
    "start = time.time()\n",
    "cbr.fit(features_train_scaled, \n",
    "        target_train,\n",
    "        eval_set=eval_set,\n",
    "        silent=True)\n",
    "cbr_fit_time = round(time.time()-start,2)"
   ]
  },
  {
   "cell_type": "code",
   "execution_count": null,
   "id": "ce0e60ad",
   "metadata": {},
   "outputs": [],
   "source": [
    "cbr_predictions = lgbm.predict(features_test_scaled)\n",
    "cbr_rmse = rmse(target_test,lgbm_predictions)"
   ]
  },
  {
   "cell_type": "code",
   "execution_count": null,
   "id": "435bbf12",
   "metadata": {},
   "outputs": [],
   "source": [
    "cross_val_score(cbr,features_train_scaled,target_train,scoring=make_scorer(rmse),verbose=10,cv=5)"
   ]
  },
  {
   "cell_type": "code",
   "execution_count": null,
   "id": "f5bad9b6",
   "metadata": {},
   "outputs": [],
   "source": [
    "features_test['cbr_predictions'] = np.round(cbr_predictions,2)\n",
    "features_test['cbr_error'] = np.round((cbr_predictions-target_test),2)"
   ]
  },
  {
   "cell_type": "markdown",
   "id": "a93d1b98",
   "metadata": {},
   "source": [
    "## Error Analysis"
   ]
  },
  {
   "cell_type": "code",
   "execution_count": null,
   "id": "6c75de59",
   "metadata": {},
   "outputs": [],
   "source": [
    "features_test[['price_purchased',\n",
    "               'dr_predictions',\n",
    "               'lr_predictions',\n",
    "               'rfr_predictions',\n",
    "               'lgbm_predictions',\n",
    "               'cbr_predictions']].sort_index().sample(5)"
   ]
  },
  {
   "cell_type": "code",
   "execution_count": null,
   "id": "3e8f8ecf",
   "metadata": {},
   "outputs": [],
   "source": [
    "sns.set(rc={'figure.figsize':(14,10)})"
   ]
  },
  {
   "cell_type": "code",
   "execution_count": null,
   "id": "f8a20d6d",
   "metadata": {},
   "outputs": [],
   "source": [
    "rmse_fit = pd.DataFrame({'RMSE':[dr_rmse,lr_rmse,rfr_rmse,dtr_rmse,lgbm_rmse,cbr_rmse],\n",
    "                         'Fit Time':[dr_fit_time,lr_fit_time,rfr_fit_time,dtr_fit_time,lgbm_fit_time,cbr_fit_time]},\n",
    "                        index=['Dummy','Linear','Random Forest','Decision Tree','Light Gradient Boost','Cat Boost'])"
   ]
  },
  {
   "cell_type": "code",
   "execution_count": null,
   "id": "84ba8dc0",
   "metadata": {},
   "outputs": [],
   "source": [
    "rmse_fit"
   ]
  },
  {
   "cell_type": "code",
   "execution_count": null,
   "id": "27b7b616",
   "metadata": {},
   "outputs": [],
   "source": [
    "rmse_fit.T"
   ]
  },
  {
   "cell_type": "code",
   "execution_count": null,
   "id": "58cbc380",
   "metadata": {},
   "outputs": [],
   "source": [
    "ax = rmse_fit[['RMSE']].plot(kind='bar',title='Root Mean Squared Error by Model')\n",
    "ax.figure.savefig(\"RMSE_by_Model.png\")\n",
    "ax.figure.savefig(\"RMSE_by_Model.pdf\")"
   ]
  },
  {
   "cell_type": "code",
   "execution_count": null,
   "id": "1c0ea561",
   "metadata": {},
   "outputs": [],
   "source": [
    "ax = rmse_fit[['Fit Time']].plot(kind='bar',title='Training_Time_by_Model')\n",
    "ax.figure.savefig(\"Training_Time_by_Model.png\")\n",
    "ax.figure.savefig(\"Training_Time_by_Model.pdf\")"
   ]
  },
  {
   "cell_type": "code",
   "execution_count": null,
   "id": "dd04e624",
   "metadata": {},
   "outputs": [],
   "source": [
    "df_price_analysis = pd.concat([target_test,features_test[['dr_predictions','dr_error','lr_predictions','lr_error','dtr_predictions','dtr_error','cbr_predictions',\n",
    "                                                    'rfr_predictions','rfr_error','lgbm_predictions','lgbm_error','cbr_error']]],\n",
    "                       axis=1,\n",
    "                       join='outer')\n",
    "df_price_analysis = df_price_analysis.sort_index()"
   ]
  },
  {
   "cell_type": "code",
   "execution_count": null,
   "id": "70121e12",
   "metadata": {},
   "outputs": [],
   "source": [
    "df_feature_importance_analysis = pd.DataFrame(data={'cbr':cbr.feature_importances_,\n",
    "                                                    'lgbm':lgbm.feature_importances_,\n",
    "                                                    'rfr':rfr.feature_importances_,\n",
    "                                                    'dtr':dtr.feature_importances_},\n",
    "                                              index=features_train.columns)"
   ]
  },
  {
   "cell_type": "code",
   "execution_count": null,
   "id": "97ee3cdc",
   "metadata": {},
   "outputs": [],
   "source": [
    "for col in df_feature_importance_analysis.columns:\n",
    "    total = df_feature_importance_analysis[col].sum()\n",
    "    df_feature_importance_analysis[col] = df_feature_importance_analysis[col]/total"
   ]
  },
  {
   "cell_type": "code",
   "execution_count": null,
   "id": "2b49d98d",
   "metadata": {},
   "outputs": [],
   "source": [
    "df_feature_importance_analysis['sum'] = (df_feature_importance_analysis['cbr'] + df_feature_importance_analysis['lgbm'] + \n",
    "                                        df_feature_importance_analysis['rfr'] + df_feature_importance_analysis['dtr'])"
   ]
  },
  {
   "cell_type": "code",
   "execution_count": null,
   "id": "8b26d176",
   "metadata": {},
   "outputs": [],
   "source": [
    "df_feature_importance_analysis.sort_values('sum',ascending=False)"
   ]
  },
  {
   "cell_type": "code",
   "execution_count": null,
   "id": "1b750422",
   "metadata": {},
   "outputs": [],
   "source": [
    "df_feature_importance_analysis.sort_values('cbr',ascending=False)"
   ]
  },
  {
   "cell_type": "code",
   "execution_count": null,
   "id": "7ad748c5",
   "metadata": {},
   "outputs": [],
   "source": [
    "df_feature_importance_analysis.sort_values('lgbm',ascending=False)"
   ]
  },
  {
   "cell_type": "code",
   "execution_count": null,
   "id": "ec3b2d1f",
   "metadata": {},
   "outputs": [],
   "source": [
    "df_feature_importance_analysis.sort_values('rfr',ascending=False)"
   ]
  },
  {
   "cell_type": "code",
   "execution_count": null,
   "id": "3b5c915e",
   "metadata": {},
   "outputs": [],
   "source": [
    "df_feature_importance_analysis.sort_values('dtr',ascending=False)"
   ]
  },
  {
   "cell_type": "code",
   "execution_count": null,
   "id": "6ed82d2c",
   "metadata": {
    "scrolled": false
   },
   "outputs": [],
   "source": [
    "ax = df_feature_importance_analysis.T.plot(kind='bar',title='Importance by Model')\n",
    "ax.figure.savefig(\"Importance_By_Model_Bar.png\")\n",
    "ax.figure.savefig(\"Importance_By_Model_Bar.pdf\")"
   ]
  },
  {
   "cell_type": "code",
   "execution_count": null,
   "id": "88f05342",
   "metadata": {},
   "outputs": [],
   "source": [
    "ax = df_feature_importance_analysis.plot(kind='bar',title='Importance_by_Feature')\n",
    "ax.figure.savefig(\"Importance_By_Feature_Bar.png\")\n",
    "ax.figure.savefig(\"Importance_By_Feature_Bar.pdf\")"
   ]
  },
  {
   "cell_type": "code",
   "execution_count": null,
   "id": "90293cd3",
   "metadata": {},
   "outputs": [],
   "source": [
    "ax = df_price_analysis[\n",
    "     ['lr_error','rfr_error','lgbm_error','cbr_error','dtr_error']\n",
    "     ].cumsum().plot(\n",
    "     title='Cumulative Error',\n",
    "     alpha=1)\n",
    "ax.figure.savefig(\"Error_All_Prices_Line.png\")\n",
    "ax.figure.savefig(\"Error_All_Prices_Line.pdf\")"
   ]
  },
  {
   "cell_type": "code",
   "execution_count": null,
   "id": "1ad248b5",
   "metadata": {},
   "outputs": [],
   "source": [
    "ax = df_price_analysis[df_price_analysis['price_sold']<df_price_analysis['price_sold'].median()][\n",
    "    ['lr_error','rfr_error','lgbm_error','cbr_error','dtr_error']\n",
    "    ].cumsum().plot(\n",
    "    title='Error Lower Than Median',\n",
    "    alpha=1)\n",
    "ax.figure.savefig(\"Error_Small_Prices_Line.png\")\n",
    "ax.figure.savefig(\"Error_Small_Prices_Line.pdf\")"
   ]
  },
  {
   "cell_type": "code",
   "execution_count": null,
   "id": "57eed85e",
   "metadata": {},
   "outputs": [],
   "source": [
    "ax = df_price_analysis[df_price_analysis['price_sold']>df_price_analysis['price_sold'].median()][\n",
    "    ['lr_error','rfr_error','lgbm_error','cbr_error','dtr_error']\n",
    "    ].cumsum().plot(\n",
    "    title='Error Higher Than Median',\n",
    "    alpha=1)\n",
    "ax.figure.savefig(\"Error_Large_Prices_Line.png\")\n",
    "ax.figure.savefig(\"Error_Large_Prices_Line.pdf\")"
   ]
  },
  {
   "cell_type": "code",
   "execution_count": null,
   "id": "969905b5",
   "metadata": {},
   "outputs": [],
   "source": [
    "ax = df_price_analysis[df_price_analysis['price_sold']<abs(df_price_analysis['price_sold'].median()-0.5)][\n",
    "    ['lr_error','rfr_error','lgbm_error','cbr_error','dtr_error']\n",
    "    ].cumsum().plot(\n",
    "    title='Error Around Median',\n",
    "    alpha=1)\n",
    "ax.figure.savefig(\"Error_Average_Prices_Line.png\")\n",
    "ax.figure.savefig(\"Error_Average_Prices_Line.pdf\")"
   ]
  },
  {
   "cell_type": "code",
   "execution_count": null,
   "id": "b285e310",
   "metadata": {},
   "outputs": [],
   "source": [
    "features_test[['price_purchased',\n",
    "               'dr_predictions',\n",
    "               'lr_predictions',\n",
    "               'dtr_predictions',\n",
    "               'rfr_predictions',\n",
    "               'lgbm_predictions',\n",
    "               'cbr_predictions']].sort_index().to_csv(\"Price_and_Predictions.csv\") "
   ]
  },
  {
   "cell_type": "code",
   "execution_count": null,
   "id": "193d6dc4",
   "metadata": {},
   "outputs": [],
   "source": [
    "df_feature_importance_analysis.to_csv(\"Importance_by_Feature.csv\")"
   ]
  },
  {
   "cell_type": "code",
   "execution_count": null,
   "id": "b72ab35a",
   "metadata": {},
   "outputs": [],
   "source": [
    "df_feature_importance_analysis.T.to_csv(\"Importance_by_Model.csv\")"
   ]
  },
  {
   "cell_type": "code",
   "execution_count": null,
   "id": "fe137172",
   "metadata": {},
   "outputs": [],
   "source": [
    "df_price_analysis.to_csv(\"Price_With_Predictions.csv\")"
   ]
  },
  {
   "cell_type": "code",
   "execution_count": null,
   "id": "ce86f854",
   "metadata": {},
   "outputs": [],
   "source": []
  }
 ],
 "metadata": {
  "kernelspec": {
   "display_name": "Python 3 (ipykernel)",
   "language": "python",
   "name": "python3"
  },
  "language_info": {
   "codemirror_mode": {
    "name": "ipython",
    "version": 3
   },
   "file_extension": ".py",
   "mimetype": "text/x-python",
   "name": "python",
   "nbconvert_exporter": "python",
   "pygments_lexer": "ipython3",
   "version": "3.9.5"
  },
  "toc": {
   "base_numbering": 1,
   "nav_menu": {},
   "number_sections": true,
   "sideBar": true,
   "skip_h1_title": true,
   "title_cell": "Table of Contents",
   "title_sidebar": "Contents",
   "toc_cell": false,
   "toc_position": {},
   "toc_section_display": true,
   "toc_window_display": false
  }
 },
 "nbformat": 4,
 "nbformat_minor": 5
}
